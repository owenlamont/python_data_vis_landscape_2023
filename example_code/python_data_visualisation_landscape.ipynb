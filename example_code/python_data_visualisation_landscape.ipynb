{
 "cells": [
  {
   "cell_type": "markdown",
   "id": "c2ddc1cc-5def-4502-a9f8-77a7549da955",
   "metadata": {},
   "source": [
    "# Change Pandas plotting backends"
   ]
  },
  {
   "cell_type": "code",
   "execution_count": null,
   "id": "aa3fe0c2-12a5-43e8-8a38-0c7eea989e2e",
   "metadata": {
    "tags": []
   },
   "outputs": [],
   "source": [
    "import pandas as pd"
   ]
  },
  {
   "cell_type": "code",
   "execution_count": null,
   "id": "91fdb71c-e190-4d42-a9f0-ad14a145d676",
   "metadata": {
    "tags": []
   },
   "outputs": [],
   "source": [
    "pd.options.plotting.backend = \"plotly\"\n",
    "\n",
    "df = pd.DataFrame(dict(a=[1,3,2], b=[3,2,1]))\n",
    "fig = df.plot(title=\"Pandas Backend Example\", template=\"simple_white\",\n",
    "              labels=dict(index=\"time\", value=\"money\", variable=\"option\"))\n",
    "fig.update_yaxes(tickprefix=\"$\")"
   ]
  },
  {
   "cell_type": "code",
   "execution_count": null,
   "id": "9bf5f5f1-1f44-452d-9113-0c7fba19725b",
   "metadata": {
    "tags": []
   },
   "outputs": [],
   "source": [
    "pd.options.plotting.backend = \"matplotlib\""
   ]
  },
  {
   "cell_type": "code",
   "execution_count": null,
   "id": "873126d6-3763-46ff-8e68-7f1853bd2e40",
   "metadata": {
    "tags": []
   },
   "outputs": [],
   "source": [
    "fig = df.plot(title=\"Pandas Backend Example\", figsize=(12, 6))"
   ]
  },
  {
   "cell_type": "markdown",
   "id": "1c96880d-be0f-42e2-ad0c-f4b1103e6bba",
   "metadata": {},
   "source": [
    "# Connecting multiple data sources and visualisation packages with hvPlot"
   ]
  },
  {
   "cell_type": "code",
   "execution_count": null,
   "id": "479afde8-ea00-4d30-82b9-d62d707d1cfe",
   "metadata": {
    "tags": []
   },
   "outputs": [],
   "source": [
    "import hvplot.pandas"
   ]
  },
  {
   "cell_type": "code",
   "execution_count": null,
   "id": "98b4d4de-550f-42bc-a73f-2797914bbcc2",
   "metadata": {
    "tags": []
   },
   "outputs": [],
   "source": [
    "df = pd.read_csv(\"college.csv\")"
   ]
  },
  {
   "cell_type": "code",
   "execution_count": null,
   "id": "f0170329-abb6-423d-8925-bf679420526a",
   "metadata": {
    "tags": []
   },
   "outputs": [],
   "source": [
    "df.hvplot.scatter(x='AverageCost', y='AverageFacultySalary', by='Geography')"
   ]
  },
  {
   "cell_type": "code",
   "execution_count": null,
   "id": "b0081fba-0fb1-4e3b-9906-f0702f836a90",
   "metadata": {
    "tags": []
   },
   "outputs": [],
   "source": [
    "import networkx as nx\n",
    "import hvplot.networkx as hvnx\n",
    "\n",
    "G = nx.karate_club_graph()\n",
    "\n",
    "hvnx.draw_spring(G, labels='club', font_size='10pt', node_color='club', cmap='Category10', width=500, height=500)"
   ]
  },
  {
   "cell_type": "markdown",
   "id": "37af140a-78d5-4ff6-890d-89dc28ddceb6",
   "metadata": {},
   "source": [
    "# Low boilerplate charts with Plotly Express"
   ]
  },
  {
   "cell_type": "code",
   "execution_count": null,
   "id": "3cd240f8-1206-4d61-9097-d25223b057d9",
   "metadata": {
    "tags": []
   },
   "outputs": [],
   "source": [
    "import plotly.express as px"
   ]
  },
  {
   "cell_type": "code",
   "execution_count": null,
   "id": "555c5f3e-e4e2-4879-bf24-4dad29eee9b4",
   "metadata": {
    "tags": []
   },
   "outputs": [],
   "source": [
    "px.scatter(df, x=\"AverageCost\", y=\"AverageFacultySalary\", color=\"Geography\")"
   ]
  },
  {
   "cell_type": "markdown",
   "id": "5cf81140-4a81-4cc4-9e99-3b6e1c4aa6f2",
   "metadata": {},
   "source": [
    "## ipyvizzu - fancy transitions"
   ]
  },
  {
   "cell_type": "code",
   "execution_count": null,
   "id": "4add6eef-1364-4ba3-acd7-7d8cc95602e0",
   "metadata": {
    "tags": []
   },
   "outputs": [],
   "source": [
    "from ipyvizzu import Chart, Config, Data, Style"
   ]
  },
  {
   "cell_type": "code",
   "execution_count": null,
   "id": "4d450f2a-3232-4f72-96c4-05f0d231d401",
   "metadata": {
    "tags": []
   },
   "outputs": [],
   "source": [
    "data_frame = pd.read_csv(\"sales.csv\")\n",
    "data = Data()\n",
    "data.add_data_frame(data_frame)\n",
    "\n",
    "chart = Chart()\n",
    "\n",
    "chart.animate(data)\n",
    "\n",
    "chart.animate(\n",
    "    Data.filter(\"record['Product'] == 'Shoes'\"),\n",
    "    Config(\n",
    "        {\n",
    "            \"x\": \"Region\",\n",
    "            \"y\": [\"Sales\", \"Product\"],\n",
    "            \"label\": \"Sales\",\n",
    "            \"color\": \"Product\",\n",
    "            \"title\": \"Sales of Shoes\",\n",
    "        }\n",
    "    ),\n",
    ")\n",
    "\n",
    "chart.animate(\n",
    "    Data.filter(\"record['Product'] == 'Shoes' || record['Product'] == 'Handbags'\"),\n",
    "    Config({\"title\": \"Sales of Shoes & Handbags\"}),\n",
    "    delay=1,\n",
    ")\n",
    "\n",
    "chart.animate(\n",
    "    Data.filter(\"record['Product'] != 'Accessories'\"),\n",
    "    Config({\"title\": \"Sales of Shoes, Handbags & Gloves\"}),\n",
    "    delay=1,\n",
    ")\n",
    "\n",
    "chart.animate(\n",
    "    Data.filter(None),\n",
    "    Config({\"title\": \"Sales of All Products\"}),\n",
    "    delay=1,\n",
    ")\n",
    "\n",
    "chart.animate(\n",
    "    Config(\n",
    "        {\n",
    "            \"y\": [\"Revenue [$]\", \"Product\"],\n",
    "            \"label\": \"Revenue [$]\",\n",
    "            \"title\": \"Revenue of All Products\",\n",
    "        }\n",
    "    ),\n",
    "    delay=1,\n",
    ")\n",
    "\n",
    "chart.animate(Config({\"x\": [\"Region\", \"Revenue [$]\"], \"y\": \"Product\"}), delay=2)\n",
    "\n",
    "chart.animate(Config({\"x\": \"Revenue [$]\", \"y\": \"Product\"}))\n",
    "\n",
    "chart.animate(Config({\"coordSystem\": \"polar\", \"sort\": \"byValue\"}), delay=1)"
   ]
  },
  {
   "cell_type": "markdown",
   "id": "9d80276f-3679-46be-a9c1-a60fe920b766",
   "metadata": {},
   "source": [
    "# Cool 3D map visualisations with Pydeck"
   ]
  },
  {
   "cell_type": "code",
   "execution_count": null,
   "id": "10719cee-3242-457b-a8ff-02a6db8b5ca5",
   "metadata": {
    "tags": []
   },
   "outputs": [],
   "source": [
    "import pydeck as pdk"
   ]
  },
  {
   "cell_type": "code",
   "execution_count": null,
   "id": "75d56351-dc47-4e4e-851a-953db1bb07b8",
   "metadata": {
    "tags": []
   },
   "outputs": [],
   "source": [
    "UK_ACCIDENTS_DATA = \"./heatmap-data.csv\"\n",
    "\n",
    "layer = pdk.Layer(\n",
    "    \"HexagonLayer\",  # `type` positional argument is here\n",
    "    pd.read_csv(\"heatmap-data.csv\"),\n",
    "    get_position=[\"lng\", \"lat\"],\n",
    "    auto_highlight=True,\n",
    "    elevation_scale=50,\n",
    "    pickable=True,\n",
    "    elevation_range=[0, 3000],\n",
    "    extruded=True,\n",
    "    coverage=1,\n",
    ")\n",
    "\n",
    "# Set the viewport location\n",
    "view_state = pdk.ViewState(\n",
    "    longitude=-1.415,\n",
    "    latitude=52.2323,\n",
    "    zoom=6,\n",
    "    min_zoom=5,\n",
    "    max_zoom=15,\n",
    "    pitch=40.5,\n",
    "    bearing=-27.36,\n",
    ")\n",
    "\n",
    "# Combined all of it and render a viewport\n",
    "pdk.Deck(layers=[layer], initial_view_state=view_state)"
   ]
  },
  {
   "cell_type": "markdown",
   "id": "1c4b166a-69b8-471b-9e24-af5c368fc8cb",
   "metadata": {},
   "source": [
    "# ipycanvas"
   ]
  },
  {
   "cell_type": "code",
   "execution_count": null,
   "id": "e7e97776-e50f-4e7b-b69e-74c29329e158",
   "metadata": {
    "tags": []
   },
   "outputs": [],
   "source": [
    "from ipycanvas import Canvas, Path2D\n",
    "\n",
    "canvas = Canvas(width=350, height=350)\n",
    "\n",
    "path1 = Path2D(\"M80 80 A 45 45, 0, 0, 0, 125 125 L 125 80 Z\")\n",
    "path2 = Path2D(\"M230 80 A 45 45, 0, 1, 0, 275 125 L 275 80 Z\")\n",
    "path3 = Path2D(\"M80 230 A 45 45, 0, 0, 1, 125 275 L 125 230 Z\")\n",
    "path4 = Path2D(\"M230 230 A 45 45, 0, 1, 1, 275 275 L 275 230 Z\")\n",
    "\n",
    "canvas.fill_style = \"green\"\n",
    "canvas.fill(path1)\n",
    "\n",
    "canvas.fill_style = \"purple\"\n",
    "canvas.fill(path2)\n",
    "\n",
    "canvas.fill_style = \"red\"\n",
    "canvas.fill(path3)\n",
    "\n",
    "canvas.fill_style = \"blue\"\n",
    "canvas.fill(path4)\n",
    "\n",
    "canvas"
   ]
  },
  {
   "cell_type": "markdown",
   "id": "1fb73104-bf5b-42ab-b705-9ef41674022f",
   "metadata": {},
   "source": [
    "# Interactive Graphs with ipycytoscope"
   ]
  },
  {
   "cell_type": "code",
   "execution_count": null,
   "id": "aff6bdbe-c204-44c2-8f30-b8e118c83073",
   "metadata": {
    "tags": []
   },
   "outputs": [],
   "source": [
    "import ipycytoscape\n",
    "import ipywidgets as widgets\n",
    "import networkx as nx\n",
    "from IPython.display import display"
   ]
  },
  {
   "cell_type": "code",
   "execution_count": null,
   "id": "54aa53db-a186-4718-9e33-79f21f150a06",
   "metadata": {
    "tags": []
   },
   "outputs": [],
   "source": [
    "G = nx.complete_graph(5)\n",
    "undirected = ipycytoscape.CytoscapeWidget()\n",
    "undirected.graph.add_graph_from_networkx(G)\n",
    "display(undirected)"
   ]
  },
  {
   "cell_type": "markdown",
   "id": "67f72039-7b12-4aa7-9f16-224cfeaefdff",
   "metadata": {},
   "source": [
    "# Real-time 3D graphics with pythreejs"
   ]
  },
  {
   "cell_type": "code",
   "execution_count": null,
   "id": "ebfd1ea0-bed2-40d2-a022-b9fdb53e1bb8",
   "metadata": {
    "tags": []
   },
   "outputs": [],
   "source": [
    "from pythreejs import *"
   ]
  },
  {
   "cell_type": "code",
   "execution_count": null,
   "id": "c136537e-89de-48f4-b366-e5185edbcee1",
   "metadata": {
    "tags": []
   },
   "outputs": [],
   "source": [
    "ball = Mesh(\n",
    "    geometry=SphereGeometry(radius=1, widthSegments=32, heightSegments=24),\n",
    "    material=MeshLambertMaterial(color=\"red\"),\n",
    "    position=[2, 1, 0],\n",
    ")\n",
    "\n",
    "c = PerspectiveCamera(\n",
    "    position=[0, 5, 5],\n",
    "    up=[0, 1, 0],\n",
    "    children=[DirectionalLight(color=\"white\", position=[3, 5, 1], intensity=0.5)],\n",
    ")\n",
    "\n",
    "scene = Scene(children=[ball, c, AmbientLight(color=\"#777777\")])\n",
    "\n",
    "renderer = Renderer(camera=c, scene=scene, controls=[OrbitControls(controlling=c)])\n",
    "display(renderer)"
   ]
  },
  {
   "cell_type": "markdown",
   "id": "778769dd-651d-4162-ae91-6a7fe0db1b52",
   "metadata": {},
   "source": [
    "# Rendering 3D graphics with PyVista"
   ]
  },
  {
   "cell_type": "code",
   "execution_count": null,
   "id": "710ae2ac-c5a7-4ea9-926d-8b2cfa347515",
   "metadata": {
    "tags": []
   },
   "outputs": [],
   "source": [
    "import pyvista as pv\n",
    "from pyvista import examples"
   ]
  },
  {
   "cell_type": "code",
   "execution_count": null,
   "id": "6f4d5062-933b-49d7-83a1-b2fbe4054231",
   "metadata": {
    "tags": []
   },
   "outputs": [],
   "source": [
    "elevation = examples.download_crater_topo().warp_by_scalar()\n",
    "topo_map = examples.download_crater_imagery()"
   ]
  },
  {
   "cell_type": "code",
   "execution_count": null,
   "id": "8428a3e6-8ce2-4d26-b893-069ae645551c",
   "metadata": {
    "tags": []
   },
   "outputs": [],
   "source": [
    "bounds = (1818000, 1824500, 5645000, 5652500, 0, 3000)\n",
    "local = elevation.clip_box(bounds, invert=False)\n",
    "local.texture_map_to_plane(use_bounds=True, inplace=True)"
   ]
  },
  {
   "cell_type": "code",
   "execution_count": null,
   "id": "4a5ee5ee-c1ac-40c7-8278-f361310ef27e",
   "metadata": {
    "tags": []
   },
   "outputs": [],
   "source": [
    "local.plot(texture=topo_map, jupyter_backend=\"trame\")"
   ]
  },
  {
   "cell_type": "markdown",
   "id": "46f8aa79-2d7f-4adf-a188-9784b4d59d6e",
   "metadata": {},
   "source": [
    "# Data exploration with ydata_profiling"
   ]
  },
  {
   "cell_type": "code",
   "execution_count": null,
   "id": "894664fc-6a69-423c-a290-71bf1ef50f71",
   "metadata": {
    "tags": []
   },
   "outputs": [],
   "source": [
    "from ydata_profiling import ProfileReport"
   ]
  },
  {
   "cell_type": "code",
   "execution_count": null,
   "id": "17575687-95aa-4bc0-807b-c67600416b04",
   "metadata": {
    "tags": []
   },
   "outputs": [],
   "source": [
    "profile = ProfileReport(df, title=\"Profiling Report\")"
   ]
  },
  {
   "cell_type": "code",
   "execution_count": null,
   "id": "0a8bff95-1d6b-49ea-9e14-9145aeed068b",
   "metadata": {
    "tags": []
   },
   "outputs": [],
   "source": [
    "profile.to_widgets()"
   ]
  },
  {
   "cell_type": "markdown",
   "id": "7286304f-2043-462b-b4a6-f8bfa0b16f0e",
   "metadata": {},
   "source": [
    "# Low code exploratory visualisation with PyGWalker"
   ]
  },
  {
   "cell_type": "code",
   "execution_count": null,
   "id": "b00508ef-3fb0-4d91-9cf0-f461c961ae7c",
   "metadata": {
    "tags": []
   },
   "outputs": [],
   "source": [
    "import pygwalker as pyg"
   ]
  },
  {
   "cell_type": "code",
   "execution_count": null,
   "id": "867d1a2b-660d-434c-9c60-b2170b09a85e",
   "metadata": {},
   "outputs": [],
   "source": [
    "gwalker = pyg.walk(df)"
   ]
  }
 ],
 "metadata": {
  "kernelspec": {
   "display_name": "Python 3 (ipykernel)",
   "language": "python",
   "name": "python3"
  },
  "language_info": {
   "codemirror_mode": {
    "name": "ipython",
    "version": 3
   },
   "file_extension": ".py",
   "mimetype": "text/x-python",
   "name": "python",
   "nbconvert_exporter": "python",
   "pygments_lexer": "ipython3",
   "version": "3.10.11"
  }
 },
 "nbformat": 4,
 "nbformat_minor": 5
}
